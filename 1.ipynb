{
 "cells": [
  {
   "cell_type": "markdown",
   "id": "7be5452c-cf81-4c96-aeb1-7a9538db455a",
   "metadata": {
    "tags": []
   },
   "source": [
    " #  **120 Years of Olympic History - Group number 1** "
   ]
  },
  {
   "cell_type": "markdown",
   "id": "0369ee8d-52a2-46f4-a779-4de2762f0254",
   "metadata": {},
   "source": [
    "---\n",
    "\n",
    "<center><img src=\"https://media4.giphy.com/media/l2SpVPT2FnKozPDby/giphy.gif?cid=ecf05e47oj3fdr2c0vxys8zt8rauepk2bkwtjqdy1y3qtf86&rid=giphy.gif&ct=g\"  \n",
    "     width=\"500\"  > </center>\n",
    "     \n",
    "---"
   ]
  },
  {
   "cell_type": "markdown",
   "id": "a44d95ef-935a-45dc-8b62-986eac9433ec",
   "metadata": {
    "jp-MarkdownHeadingCollapsed": true,
    "tags": []
   },
   "source": [
    "    \n",
    " ## **Presenting by:**\n",
    " ### Eliya Zaguri ### \n",
    " ### Matan Vidal ###\n",
    " ### Adar Saban ###\n",
    "  \n",
    "  \n",
    "\n",
    "\n"
   ]
  },
  {
   "cell_type": "markdown",
   "id": "48ffce53-a6e6-40f0-b75f-f8ced127938c",
   "metadata": {},
   "source": [
    "## **Table of contents:** \n",
    "\n",
    "Link to source : https://www.kaggle.com/datasets/mysarahmadbhat/120-years-of-olympic-history\n",
    "\n",
    "Link to github project page :https://github.com/AdarSaban/olypmic_project\n",
    "\n",
    "1. [Arranging and clearing the data according to our needs](#section1)\n",
    "\n",
    "2. [Key comprehension](#section2)\n",
    "\n",
    "3. [First conclusion](#section3)\n",
    "\n",
    "4. [Second conclusion](#section4)\n",
    "\n",
    "5. [Third conclusion](#section5)\n",
    "\n",
    "6. [Final conclusion](#section6)\n",
    "\n",
    "7. [Prediction](#section7)\n",
    "\n",
    "7. [Summary](#section8)\n",
    "\n",
    "\n",
    "---"
   ]
  },
  {
   "cell_type": "markdown",
   "id": "abe795e1-d7ce-408b-8966-41c2821040ce",
   "metadata": {
    "tags": []
   },
   "source": [
    "<a id='section1'></a>\n",
    " # $\\color{navy}{\\text{Organize and Clearing the Data According to Our Needs}}$ \n"
   ]
  },
  {
   "cell_type": "markdown",
   "id": "07143d6d-1250-43c2-a6db-28b171a1de51",
   "metadata": {
    "tags": []
   },
   "source": [
    "### Performing import and reading of a database.\n"
   ]
  },
  {
   "cell_type": "code",
   "execution_count": 2,
   "id": "61e4277d-342f-4075-881c-1eaa44d68d8b",
   "metadata": {},
   "outputs": [],
   "source": [
    "import pandas as pd\n",
    "import numpy as np\n",
    "import seaborn as sns\n",
    "import matplotlib.pyplot as plt\n",
    "from IPython.display import Image\n",
    "import numpy as np\n",
    "from sklearn.linear_model import LinearRegression\n",
    "\n",
    "\n",
    "url='https://raw.githubusercontent.com/AdarSaban/olypmic_project/main/athlete_events%20-%20Copy.csv '\n",
    "data=pd.read_csv(url)"
   ]
  },
  {
   "cell_type": "markdown",
   "id": "3a8bf1e3-eb9e-4c19-bf0b-26da0d7b3261",
   "metadata": {
    "tags": []
   },
   "source": [
    "### Checking the indentation of the column title."
   ]
  },
  {
   "cell_type": "code",
   "execution_count": 3,
   "id": "506201ed-1ce4-4c00-8643-433ba7b122ab",
   "metadata": {},
   "outputs": [
    {
     "data": {
      "text/plain": [
       "ID          int64\n",
       "Name       object\n",
       "Sex        object\n",
       "Age       float64\n",
       "Height    float64\n",
       "Weight    float64\n",
       "Team       object\n",
       "NOC        object\n",
       "Games      object\n",
       "Year        int64\n",
       "Season     object\n",
       "City       object\n",
       "Sport      object\n",
       "Event      object\n",
       "Medal      object\n",
       "dtype: object"
      ]
     },
     "execution_count": 3,
     "metadata": {},
     "output_type": "execute_result"
    }
   ],
   "source": [
    "data.dtypes "
   ]
  },
  {
   "cell_type": "markdown",
   "id": "78ae8f61-4093-4453-bec7-b998e1041f98",
   "metadata": {
    "tags": []
   },
   "source": [
    "### Filling in missing values ​​for each sport in its field according to the average of that field."
   ]
  },
  {
   "cell_type": "code",
   "execution_count": 4,
   "id": "575ab2a8-f490-4730-bc41-33981223a85f",
   "metadata": {},
   "outputs": [],
   "source": [
    "data[\"Age\"] = data.groupby('Sport')['Age'].apply(lambda x: x.fillna(x.mean()))\n",
    "data[\"Height\"] = data.groupby('Sport')['Height'].apply(lambda x: x.fillna(x.mean()))\n",
    "data[\"Weight\"] = data.groupby('Sport')['Weight'].apply(lambda x: x.fillna(x.mean()))"
   ]
  },
  {
   "cell_type": "markdown",
   "id": "a0f5ca0c-ad8f-43c4-83f7-ec2abd8166ea",
   "metadata": {
    "tags": []
   },
   "source": [
    "### Deletion of sports categories where the number of medals is low. Focus on popular sports."
   ]
  },
  {
   "cell_type": "code",
   "execution_count": 5,
   "id": "aa74bf00-264b-45ef-b91c-366c903292f3",
   "metadata": {},
   "outputs": [
    {
     "data": {
      "text/plain": [
       "Athletics                    27472\n",
       "Gymnastics                   18333\n",
       "Swimming                     16298\n",
       "Shooting                      8086\n",
       "Fencing                       7772\n",
       "Cycling                       7716\n",
       "Rowing                        7319\n",
       "Cross Country Skiing          6364\n",
       "Alpine Skiing                 6319\n",
       "Wrestling                     4994\n",
       "Football                      4933\n",
       "Sailing                       4710\n",
       "Equestrianism                 4470\n",
       "Boxing                        4350\n",
       "Canoeing                      4302\n",
       "Speed Skating                 3829\n",
       "Ice Hockey                    3746\n",
       "Hockey                        3707\n",
       "Biathlon                      3301\n",
       "Basketball                    3243\n",
       "Weightlifting                 2766\n",
       "Judo                          2705\n",
       "Handball                      2652\n",
       "Water Polo                    2628\n",
       "Art Competitions              2597\n",
       "Volleyball                    2323\n",
       "Bobsleigh                     2076\n",
       "Diving                        2008\n",
       "Tennis                        1940\n",
       "Ski Jumping                   1689\n",
       "Figure Skating                1577\n",
       "Archery                       1573\n",
       "Table Tennis                  1382\n",
       "Modern Pentathlon             1227\n",
       "Short Track Speed Skating     1058\n",
       "Badminton                     1002\n",
       "Luge                           985\n",
       "Nordic Combined                978\n",
       "Freestyle Skiing               661\n",
       "Baseball                       658\n",
       "Snowboarding                   655\n",
       "Synchronized Swimming          635\n",
       "Taekwondo                      446\n",
       "Rhythmic Gymnastics            437\n",
       "Beach Volleyball               376\n",
       "Triathlon                      357\n",
       "Curling                        323\n",
       "Softball                       308\n",
       "Rugby Sevens                   205\n",
       "Golf                           172\n",
       "Skeleton                       137\n",
       "Trampolining                   117\n",
       "Rugby                          115\n",
       "Tug-Of-War                     113\n",
       "Name: Sport, dtype: int64"
      ]
     },
     "execution_count": 5,
     "metadata": {},
     "output_type": "execute_result"
    }
   ],
   "source": [
    "data.Sport.unique()\n",
    "data['Sport'].value_counts(ascending=True)\n",
    "data=data.groupby('Sport').filter(lambda x : len(x)>100) \n",
    "data['Sport'].value_counts(ascending=False)"
   ]
  },
  {
   "cell_type": "markdown",
   "id": "8cb92760-14e9-44d9-b2a8-3e27c1cda588",
   "metadata": {
    "tags": []
   },
   "source": [
    "### Check that there are no fileds with missing values. (Except what we want)."
   ]
  },
  {
   "cell_type": "code",
   "execution_count": 6,
   "id": "5ac719dd-1f61-4a93-b84a-9c7bfd152036",
   "metadata": {},
   "outputs": [
    {
     "data": {
      "text/plain": [
       "ID             0\n",
       "Name           0\n",
       "Sex            0\n",
       "Age            0\n",
       "Height         0\n",
       "Weight         0\n",
       "Team           0\n",
       "NOC            0\n",
       "Games          0\n",
       "Year           0\n",
       "Season         0\n",
       "City           0\n",
       "Sport          0\n",
       "Event          0\n",
       "Medal     162761\n",
       "dtype: int64"
      ]
     },
     "execution_count": 6,
     "metadata": {},
     "output_type": "execute_result"
    }
   ],
   "source": [
    "data.isnull().sum().sort_values(ascending=True)"
   ]
  },
  {
   "cell_type": "markdown",
   "id": "707584fe-03cd-45f2-9148-71b2a4840de5",
   "metadata": {
    "tags": []
   },
   "source": [
    "---\n",
    "<a id='section2'> </a>\n",
    " # $\\color{navy}{\\text{Key Comprehension}}$ \n",
    "\n",
    "### Presentation of the top 10 countries with the most participants and medals over the years ."
   ]
  },
  {
   "cell_type": "code",
   "execution_count": 7,
   "id": "17813b80-510c-44a3-925a-635c27643008",
   "metadata": {},
   "outputs": [
    {
     "data": {
      "image/png": "[encoded data removed]",
      "text/plain": [
       "<Figure size 1440x360 with 2 Axes>"
      ]
     },
     "metadata": {
      "needs_background": "light"
     },
     "output_type": "display_data"
    }
   ],
   "source": [
    "fig, axes = plt.subplots(figsize=(20,5), ncols=2)\n",
    "Top_10=pd.DataFrame(data[['NOC']].value_counts().sort_values(ascending=False).head(10).reset_index(name='Amount of participants'))\n",
    "barpolt_amount_of_part=sns.barplot(data=Top_10,x='NOC',y='Amount of participants',ax=axes[0],palette=\"cubehelix\");\n",
    "Medal_by_countries=data.groupby(['NOC'])[['Medal']].count().sort_values(by='Medal',ascending=False).reset_index().head(10)\n",
    "barplot_amount_of_medal=sns.barplot(data=Medal_by_countries,x='NOC',y='Medal',ax=axes[1],palette=\"cubehelix\");\n",
    "plt.subplots_adjust(wspace = 0.2)\n",
    "barpolt_amount_of_part.set_title('Amount of participants by NOC',fontweight =\"bold\")\n",
    "barplot_amount_of_medal.set_title('Amount of medal by NOC',fontweight =\"bold\")\n",
    "plt.show()"
   ]
  },
  {
   "cell_type": "markdown",
   "id": "419754af-db50-4bd1-b8f9-c8a6c316163b",
   "metadata": {
    "tags": []
   },
   "source": [
    "---\n",
    "<a id='section3'> </a>\n",
    "  # $\\color{navy}{\\text{First Conclusion}}$ \n",
    "\n",
    "### We examined whether there is a difference in gender gap in participation and winning a medal over the years. "
   ]
  },
  {
   "cell_type": "code",
   "execution_count": 8,
   "id": "49729551-2177-4a48-b9aa-440e20cbe6aa",
   "metadata": {},
   "outputs": [
    {
     "data": {
      "image/png": "[encoded data removed]",
      "text/plain": [
       "<Figure size 1440x360 with 2 Axes>"
      ]
     },
     "metadata": {
      "needs_background": "light"
     },
     "output_type": "display_data"
    }
   ],
   "source": [
    "fig, axes = plt.subplots(figsize=(20,5), ncols=2)\n",
    "last_sixty_years=data[data.Year>=1950] \n",
    "data_by_sex_year=last_sixty_years.groupby('Year')[['Sex']].value_counts().reset_index(name='Participants')\n",
    "data_by_sex_year['Precent']=data_by_sex_year.groupby('Year')['Participants'].transform(lambda x:(x/x.sum()*100))\n",
    "first_conclusion=sns.lineplot(data=data_by_sex_year, x=\"Year\", y=\"Precent\", hue=\"Sex\",ax=axes[0],palette='Blues',lw=3);\n",
    "first_conclusion.set_title('Number of participants over the years, Male versus Female  by percentage');\n",
    "g_medal_by_sex_year=last_sixty_years.groupby(['Sex','Year'])['Medal'].value_counts().reset_index(name='medals amount').sort_values(by='medals amount',ascending=False)\n",
    "lineplot_Medal_amount_by_sex=sns.lineplot(data=g_medal_by_sex_year, x=\"Year\", y=\"medals amount\", hue=\"Sex\",ax=axes[1],palette=\"Blues\",ci=None,lw=3);\n",
    "plt.subplots_adjust(wspace = 0.2)\n",
    "lineplot_Medal_amount_by_sex.set_title('medals amount by sex');\n",
    "plt.show()\n"
   ]
  },
  {
   "cell_type": "markdown",
   "id": "0db23b7e-2e55-499d-8553-53ddeba892fe",
   "metadata": {},
   "source": [
    " ## As can be seen from the graphs, The gap is narrowing both in the number of participants and in the number of medal wins over the years.\n",
    "<center><img src=\"https://raw.githubusercontent.com/AdarSaban/olypmic_project/main/olympic-gender.jpg\" alt=\"centered image\" \n",
    "     width=\"600\"  > </center>\n",
    "\n"
   ]
  },
  {
   "cell_type": "markdown",
   "id": "cac14b50-aa81-4c28-8ea8-5dd004b69c23",
   "metadata": {
    "tags": []
   },
   "source": [
    "---\n",
    "<a id='section4'></a>\n",
    "  #  $\\color{navy}{\\text{Second conclusion}}$ \n",
    "\n",
    "### According to the research \"Peak Peformance Age in Sport\", Athletes in sports requiring speed and power tend to peak by their mid-20s. We wanted to examine if the age of winning the medal matched the statement."
   ]
  },
  {
   "cell_type": "code",
   "execution_count": 9,
   "id": "ee815765-a69a-4d16-aa9b-9dc9aed867bf",
   "metadata": {},
   "outputs": [
    {
     "data": {
      "image/png": "[encoded data removed]",
      "text/plain": [
       "<Figure size 1510.38x288 with 1 Axes>"
      ]
     },
     "metadata": {
      "needs_background": "light"
     },
     "output_type": "display_data"
    }
   ],
   "source": [
    "data_no_NaN=data.dropna()\n",
    "data_no_NaN.isnull().sum().sort_values(ascending=False)\n",
    "data_no_NaN=data_no_NaN[(data_no_NaN.Age<=36)&(data_no_NaN.Age>=16)].round()\n",
    "data_Age_by_Medal=data_no_NaN.groupby('Medal')[['Age']].value_counts().reset_index(name='Tot per kind').round(1)\n",
    "data_Age_by_Medal=pd.DataFrame(data_Age_by_Medal)\n",
    "sns.catplot(data=data_Age_by_Medal,x=\"Age\",y=\"Tot per kind\",kind=\"bar\",aspect=5,height=4,hue=\"Medal\",palette='Blues');"
   ]
  },
  {
   "cell_type": "markdown",
   "id": "057693d9-4ceb-4d96-a0e6-ffd6625f1fd2",
   "metadata": {
    "tags": []
   },
   "source": [
    "### As can be seen from the graph, the winning age that achieve  the most medals is between ages 23-25. The claim match the winning age.\n",
    "<center><img src=\"https://raw.githubusercontent.com/AdarSaban/olypmic_project/b5bd4ec22670af03b5a9bd16edf66680afa0e941/hhfs9tf9mck02d8ilnqq.jpg\" alt=\"centered image\" height=\"200\n",
    "    \" width=\"1400\"> </center>\n",
    "\n"
   ]
  },
  {
   "cell_type": "markdown",
   "id": "78d0ae0a-b7e5-43b5-9f68-9f752250371a",
   "metadata": {
    "tags": []
   },
   "source": [
    "---\n",
    "<a id='section5'></a>\n",
    "  # $\\color{navy}{\\text{Third conclusion}}$ \n",
    "\n",
    "### BMI is a measure that gives a quantitative assessment of whether a person is at a normal weight and height. \n",
    "### We examined whether there is a connection  an precise BMI(18.5-25) measure and winning  a medal .\n"
   ]
  },
  {
   "cell_type": "code",
   "execution_count": 10,
   "id": "3b3a443d-dc9f-4149-b61d-70a7ddeca3b1",
   "metadata": {},
   "outputs": [
    {
     "data": {
      "image/png": "[encoded data removed]",
      "text/plain": [
       "<Figure size 432x432 with 1 Axes>"
      ]
     },
     "metadata": {
      "needs_background": "light"
     },
     "output_type": "display_data"
    }
   ],
   "source": [
    "data_of_medal_by_id=data.groupby(['ID','Age','Height','Weight'])['Medal'].value_counts().reset_index(name='medals amount')\n",
    "data_with_BMI=data_of_medal_by_id.assign(BMI=lambda x: ((x['Weight'])/ ( (x['Height']/100)**2) ))\n",
    "data_with_BMI\n",
    "plot = sns.relplot(x='medals amount',y=\"BMI\", data=data_with_BMI, kind=\"scatter\",palette=\"Blues\");\n",
    "plot.fig.set_size_inches(6,6)\n"
   ]
  },
  {
   "cell_type": "markdown",
   "id": "caf6a9c1-dfda-42fe-af83-3a26a91f9799",
   "metadata": {},
   "source": [
    "### As can be seen from the graph, there is a correlation between accurate BMI and number of medals.\n",
    "### The athletes whos wons an extraordinary medals number, approached to have a more accurate BMI.\n",
    "\n",
    "<center><img src=\"https://raw.githubusercontent.com/AdarSaban/olypmic_project/main/f92b1ea8-0e84-72c9-2a95-9b11fd9dc8bb.jpg\" alt=\"centered image\" height=\"200\n",
    "    \" width=\"800\"> </center>\n"
   ]
  },
  {
   "cell_type": "markdown",
   "id": "75f89b12-63d8-47c5-9c67-6cef2d10ba30",
   "metadata": {
    "tags": []
   },
   "source": [
    "---\n",
    "<a id='section6'></a>\n",
    "  # $\\color{navy}{\\text{Final Conclusion}}$ \n",
    "\n"
   ]
  },
  {
   "cell_type": "markdown",
   "id": "bab3c6cf-4ee5-41d8-af3c-9917a7912db0",
   "metadata": {
    "tags": []
   },
   "source": [
    "### We wished to examine whether there is an increase of medals wins when country hosts the Olympics. \n",
    "### And how significant the hosting effects the number of medals."
   ]
  },
  {
   "cell_type": "code",
   "execution_count": 11,
   "id": "05e72c41-2fcd-48d1-b75b-b3905f51b49e",
   "metadata": {},
   "outputs": [
    {
     "data": {
      "text/plain": [
       "array(['Barcelona', 'London', 'Antwerpen', 'Paris', 'Calgary',\n",
       "       'Albertville', 'Lillehammer', 'Los Angeles', 'Salt Lake City',\n",
       "       'Helsinki', 'Lake Placid', 'Sydney', 'Atlanta', 'Stockholm',\n",
       "       'Sochi', 'Nagano', 'Torino', 'Beijing', 'Rio de Janeiro', 'Athina',\n",
       "       'Squaw Valley', 'Innsbruck', 'Sarajevo', 'Mexico City', 'Munich',\n",
       "       'Seoul', 'Berlin', 'Oslo', \"Cortina d'Ampezzo\", 'Melbourne',\n",
       "       'Roma', 'Amsterdam', 'Montreal', 'Moskva', 'Tokyo', 'Vancouver',\n",
       "       'Grenoble', 'Sapporo', 'Chamonix', 'St. Louis', 'Sankt Moritz',\n",
       "       'Garmisch-Partenkirchen'], dtype=object)"
      ]
     },
     "execution_count": 11,
     "metadata": {},
     "output_type": "execute_result"
    }
   ],
   "source": [
    "data=data.rename(columns={'City':'Host_city'})\n",
    "data.Host_city.unique()"
   ]
  },
  {
   "cell_type": "code",
   "execution_count": 12,
   "id": "2f8a8b8e-e8ac-4514-aabf-77b5a0e7b305",
   "metadata": {},
   "outputs": [
    {
     "data": {
      "text/plain": [
       "42"
      ]
     },
     "execution_count": 12,
     "metadata": {},
     "output_type": "execute_result"
    }
   ],
   "source": [
    "len(data.Host_city.unique())"
   ]
  },
  {
   "cell_type": "code",
   "execution_count": 13,
   "id": "ebd21793-d846-408e-ba38-653f110fd55a",
   "metadata": {},
   "outputs": [],
   "source": [
    "NOC_dict={'ESP':'Barcelona',\n",
    "       'London':'GBR',\n",
    "       'Antwerpen':'BEL',\n",
    "       **dict.fromkeys(['Paris','Albertville','Chamonix','Grenoble'],'FRA'), \n",
    "       **dict.fromkeys(['Calgary','Montreal','Vancouver'],'CAN'),\n",
    "       **dict.fromkeys(['Lillehammer','Oslo'],'NOR'),\n",
    "       **dict.fromkeys(['Los Angeles','Salt Lake City','Atlanta','Lake Placid','Squaw Valley','Mexico City','St. Louis'],'USA'),\n",
    "       'Seoul':'KOR',\n",
    "       **dict.fromkeys(['Berlin','Munich', 'Garmisch-Partenkirchen'],'GER'),\n",
    "       'Stockholm':'SWE',\n",
    "       **dict.fromkeys(['Nagano','Tokyo','Sapporo'],'JPN'),\n",
    "       **dict.fromkeys(['Sydney','Melbourne'],'AUS'),  \n",
    "       'Rio de Janeiro':'BRA',\n",
    "       **dict.fromkeys(['Roma','Torino',\"Cortina d'Ampezzo\"],'ITA'),\n",
    "       'Beijing':'CHN',\n",
    "       'Athina':'GRE',\n",
    "       **dict.fromkeys(['Moskva','Sochi'],'URS'),\n",
    "       'Amsterdam':'NED',\n",
    "       'Helsinki':'FIN',\n",
    "       'Sarajevo':'BIH',\n",
    "       'Innsbruck':'AUT',\n",
    "       'Sankt Moritz':'SUI'}   "
   ]
  },
  {
   "cell_type": "code",
   "execution_count": 14,
   "id": "6e99acae-8b0e-4224-aec0-28866565dbd2",
   "metadata": {},
   "outputs": [
    {
     "data": {
      "text/html": [
       "<div>\n",
       "<style scoped>\n",
       "    .dataframe tbody tr th:only-of-type {\n",
       "        vertical-align: middle;\n",
       "    }\n",
       "\n",
       "    .dataframe tbody tr th {\n",
       "        vertical-align: top;\n",
       "    }\n",
       "\n",
       "    .dataframe thead th {\n",
       "        text-align: right;\n",
       "    }\n",
       "</style>\n",
       "<table border=\"1\" class=\"dataframe\">\n",
       "  <thead>\n",
       "    <tr style=\"text-align: right;\">\n",
       "      <th></th>\n",
       "      <th>ID</th>\n",
       "      <th>Name</th>\n",
       "      <th>Sex</th>\n",
       "      <th>Age</th>\n",
       "      <th>Height</th>\n",
       "      <th>Weight</th>\n",
       "      <th>Team</th>\n",
       "      <th>NOC</th>\n",
       "      <th>Games</th>\n",
       "      <th>Year</th>\n",
       "      <th>Season</th>\n",
       "      <th>Host_city</th>\n",
       "      <th>Sport</th>\n",
       "      <th>Event</th>\n",
       "      <th>Medal</th>\n",
       "      <th>Host_city_by_NOC</th>\n",
       "    </tr>\n",
       "  </thead>\n",
       "  <tbody>\n",
       "    <tr>\n",
       "      <th>82</th>\n",
       "      <td>23</td>\n",
       "      <td>Fritz Aanes</td>\n",
       "      <td>M</td>\n",
       "      <td>26.0</td>\n",
       "      <td>187.0</td>\n",
       "      <td>89.0</td>\n",
       "      <td>Norway</td>\n",
       "      <td>NOR</td>\n",
       "      <td>2004 Summer</td>\n",
       "      <td>2004</td>\n",
       "      <td>Summer</td>\n",
       "      <td>Athina</td>\n",
       "      <td>Wrestling</td>\n",
       "      <td>Wrestling Men's Light-Heavyweight, Greco-Roman</td>\n",
       "      <td>NaN</td>\n",
       "      <td>GRE</td>\n",
       "    </tr>\n",
       "    <tr>\n",
       "      <th>135</th>\n",
       "      <td>49</td>\n",
       "      <td>Moonika Aava</td>\n",
       "      <td>F</td>\n",
       "      <td>24.0</td>\n",
       "      <td>168.0</td>\n",
       "      <td>65.0</td>\n",
       "      <td>Estonia</td>\n",
       "      <td>EST</td>\n",
       "      <td>2004 Summer</td>\n",
       "      <td>2004</td>\n",
       "      <td>Summer</td>\n",
       "      <td>Athina</td>\n",
       "      <td>Athletics</td>\n",
       "      <td>Athletics Women's Javelin Throw</td>\n",
       "      <td>NaN</td>\n",
       "      <td>GRE</td>\n",
       "    </tr>\n",
       "    <tr>\n",
       "      <th>171</th>\n",
       "      <td>72</td>\n",
       "      <td>Aleksey Aleksandrovich Abalmasov</td>\n",
       "      <td>M</td>\n",
       "      <td>24.0</td>\n",
       "      <td>180.0</td>\n",
       "      <td>83.0</td>\n",
       "      <td>Belarus</td>\n",
       "      <td>BLR</td>\n",
       "      <td>2004 Summer</td>\n",
       "      <td>2004</td>\n",
       "      <td>Summer</td>\n",
       "      <td>Athina</td>\n",
       "      <td>Canoeing</td>\n",
       "      <td>Canoeing Men's Kayak Fours, 1,000 metres</td>\n",
       "      <td>NaN</td>\n",
       "      <td>GRE</td>\n",
       "    </tr>\n",
       "    <tr>\n",
       "      <th>177</th>\n",
       "      <td>75</td>\n",
       "      <td>Giorgos Abalof</td>\n",
       "      <td>M</td>\n",
       "      <td>22.0</td>\n",
       "      <td>178.0</td>\n",
       "      <td>70.0</td>\n",
       "      <td>Greece</td>\n",
       "      <td>GRE</td>\n",
       "      <td>2004 Summer</td>\n",
       "      <td>2004</td>\n",
       "      <td>Summer</td>\n",
       "      <td>Athina</td>\n",
       "      <td>Fencing</td>\n",
       "      <td>Fencing Men's epee, Individual</td>\n",
       "      <td>NaN</td>\n",
       "      <td>GRE</td>\n",
       "    </tr>\n",
       "    <tr>\n",
       "      <th>183</th>\n",
       "      <td>81</td>\n",
       "      <td>Georgios Abaris</td>\n",
       "      <td>M</td>\n",
       "      <td>22.0</td>\n",
       "      <td>190.0</td>\n",
       "      <td>77.0</td>\n",
       "      <td>Greece</td>\n",
       "      <td>GRE</td>\n",
       "      <td>2004 Summer</td>\n",
       "      <td>2004</td>\n",
       "      <td>Summer</td>\n",
       "      <td>Athina</td>\n",
       "      <td>Football</td>\n",
       "      <td>Football Men's Football</td>\n",
       "      <td>NaN</td>\n",
       "      <td>GRE</td>\n",
       "    </tr>\n",
       "  </tbody>\n",
       "</table>\n",
       "</div>"
      ],
      "text/plain": [
       "     ID                              Name Sex   Age  Height  Weight     Team  \\\n",
       "82   23                       Fritz Aanes   M  26.0   187.0    89.0   Norway   \n",
       "135  49                      Moonika Aava   F  24.0   168.0    65.0  Estonia   \n",
       "171  72  Aleksey Aleksandrovich Abalmasov   M  24.0   180.0    83.0  Belarus   \n",
       "177  75                    Giorgos Abalof   M  22.0   178.0    70.0   Greece   \n",
       "183  81                   Georgios Abaris   M  22.0   190.0    77.0   Greece   \n",
       "\n",
       "     NOC        Games  Year  Season Host_city      Sport  \\\n",
       "82   NOR  2004 Summer  2004  Summer    Athina  Wrestling   \n",
       "135  EST  2004 Summer  2004  Summer    Athina  Athletics   \n",
       "171  BLR  2004 Summer  2004  Summer    Athina   Canoeing   \n",
       "177  GRE  2004 Summer  2004  Summer    Athina    Fencing   \n",
       "183  GRE  2004 Summer  2004  Summer    Athina   Football   \n",
       "\n",
       "                                              Event Medal Host_city_by_NOC  \n",
       "82   Wrestling Men's Light-Heavyweight, Greco-Roman   NaN              GRE  \n",
       "135                 Athletics Women's Javelin Throw   NaN              GRE  \n",
       "171        Canoeing Men's Kayak Fours, 1,000 metres   NaN              GRE  \n",
       "177                  Fencing Men's epee, Individual   NaN              GRE  \n",
       "183                         Football Men's Football   NaN              GRE  "
      ]
     },
     "execution_count": 14,
     "metadata": {},
     "output_type": "execute_result"
    }
   ],
   "source": [
    "data['Host_city_by_NOC']=data.Host_city.map(NOC_dict)\n",
    "data.loc[data.Host_city=='Athina'].head()"
   ]
  },
  {
   "cell_type": "code",
   "execution_count": 15,
   "id": "9dfe7f94-0552-4907-bdaa-f26894138785",
   "metadata": {},
   "outputs": [
    {
     "data": {
      "text/html": [
       "<div>\n",
       "<style scoped>\n",
       "    .dataframe tbody tr th:only-of-type {\n",
       "        vertical-align: middle;\n",
       "    }\n",
       "\n",
       "    .dataframe tbody tr th {\n",
       "        vertical-align: top;\n",
       "    }\n",
       "\n",
       "    .dataframe thead th {\n",
       "        text-align: right;\n",
       "    }\n",
       "</style>\n",
       "<table border=\"1\" class=\"dataframe\">\n",
       "  <thead>\n",
       "    <tr style=\"text-align: right;\">\n",
       "      <th></th>\n",
       "      <th>ID</th>\n",
       "      <th>Name</th>\n",
       "      <th>Sex</th>\n",
       "      <th>Age</th>\n",
       "      <th>Height</th>\n",
       "      <th>Weight</th>\n",
       "      <th>Team</th>\n",
       "      <th>NOC</th>\n",
       "      <th>Games</th>\n",
       "      <th>Year</th>\n",
       "      <th>Season</th>\n",
       "      <th>Host_city</th>\n",
       "      <th>Sport</th>\n",
       "      <th>Event</th>\n",
       "      <th>Medal</th>\n",
       "      <th>Host_city_by_NOC</th>\n",
       "      <th>BMI</th>\n",
       "    </tr>\n",
       "  </thead>\n",
       "  <tbody>\n",
       "    <tr>\n",
       "      <th>1</th>\n",
       "      <td>2</td>\n",
       "      <td>A Lamusi</td>\n",
       "      <td>M</td>\n",
       "      <td>23.0</td>\n",
       "      <td>170.0</td>\n",
       "      <td>60.00</td>\n",
       "      <td>China</td>\n",
       "      <td>CHN</td>\n",
       "      <td>2012 Summer</td>\n",
       "      <td>2012</td>\n",
       "      <td>Summer</td>\n",
       "      <td>London</td>\n",
       "      <td>Judo</td>\n",
       "      <td>Judo Men's Extra-Lightweight</td>\n",
       "      <td>NaN</td>\n",
       "      <td>GBR</td>\n",
       "      <td>22.12</td>\n",
       "    </tr>\n",
       "    <tr>\n",
       "      <th>30</th>\n",
       "      <td>11</td>\n",
       "      <td>Jorma Ilmari Aalto</td>\n",
       "      <td>M</td>\n",
       "      <td>22.0</td>\n",
       "      <td>182.0</td>\n",
       "      <td>76.50</td>\n",
       "      <td>Finland</td>\n",
       "      <td>FIN</td>\n",
       "      <td>1980 Winter</td>\n",
       "      <td>1980</td>\n",
       "      <td>Winter</td>\n",
       "      <td>Lake Placid</td>\n",
       "      <td>Cross Country Skiing</td>\n",
       "      <td>Cross Country Skiing Men's 30 kilometres</td>\n",
       "      <td>NaN</td>\n",
       "      <td>USA</td>\n",
       "      <td>23.96</td>\n",
       "    </tr>\n",
       "    <tr>\n",
       "      <th>35</th>\n",
       "      <td>15</td>\n",
       "      <td>Arvo Ossian Aaltonen</td>\n",
       "      <td>M</td>\n",
       "      <td>22.0</td>\n",
       "      <td>178.5</td>\n",
       "      <td>70.48</td>\n",
       "      <td>Finland</td>\n",
       "      <td>FIN</td>\n",
       "      <td>1912 Summer</td>\n",
       "      <td>1912</td>\n",
       "      <td>Summer</td>\n",
       "      <td>Stockholm</td>\n",
       "      <td>Swimming</td>\n",
       "      <td>Swimming Men's 200 metres Breaststroke</td>\n",
       "      <td>NaN</td>\n",
       "      <td>SWE</td>\n",
       "      <td>22.58</td>\n",
       "    </tr>\n",
       "    <tr>\n",
       "      <th>36</th>\n",
       "      <td>15</td>\n",
       "      <td>Arvo Ossian Aaltonen</td>\n",
       "      <td>M</td>\n",
       "      <td>22.0</td>\n",
       "      <td>178.5</td>\n",
       "      <td>70.48</td>\n",
       "      <td>Finland</td>\n",
       "      <td>FIN</td>\n",
       "      <td>1912 Summer</td>\n",
       "      <td>1912</td>\n",
       "      <td>Summer</td>\n",
       "      <td>Stockholm</td>\n",
       "      <td>Swimming</td>\n",
       "      <td>Swimming Men's 400 metres Breaststroke</td>\n",
       "      <td>NaN</td>\n",
       "      <td>SWE</td>\n",
       "      <td>23.55</td>\n",
       "    </tr>\n",
       "    <tr>\n",
       "      <th>66</th>\n",
       "      <td>20</td>\n",
       "      <td>Kjetil Andr Aamodt</td>\n",
       "      <td>M</td>\n",
       "      <td>22.0</td>\n",
       "      <td>176.0</td>\n",
       "      <td>85.00</td>\n",
       "      <td>Norway</td>\n",
       "      <td>NOR</td>\n",
       "      <td>1994 Winter</td>\n",
       "      <td>1994</td>\n",
       "      <td>Winter</td>\n",
       "      <td>Lillehammer</td>\n",
       "      <td>Alpine Skiing</td>\n",
       "      <td>Alpine Skiing Men's Slalom</td>\n",
       "      <td>NaN</td>\n",
       "      <td>NOR</td>\n",
       "      <td>20.90</td>\n",
       "    </tr>\n",
       "    <tr>\n",
       "      <th>...</th>\n",
       "      <td>...</td>\n",
       "      <td>...</td>\n",
       "      <td>...</td>\n",
       "      <td>...</td>\n",
       "      <td>...</td>\n",
       "      <td>...</td>\n",
       "      <td>...</td>\n",
       "      <td>...</td>\n",
       "      <td>...</td>\n",
       "      <td>...</td>\n",
       "      <td>...</td>\n",
       "      <td>...</td>\n",
       "      <td>...</td>\n",
       "      <td>...</td>\n",
       "      <td>...</td>\n",
       "      <td>...</td>\n",
       "      <td>...</td>\n",
       "    </tr>\n",
       "    <tr>\n",
       "      <th>190351</th>\n",
       "      <td>95600</td>\n",
       "      <td>Mariusz Podkocielny</td>\n",
       "      <td>M</td>\n",
       "      <td>24.0</td>\n",
       "      <td>193.0</td>\n",
       "      <td>75.00</td>\n",
       "      <td>Poland</td>\n",
       "      <td>POL</td>\n",
       "      <td>1992 Summer</td>\n",
       "      <td>1992</td>\n",
       "      <td>Summer</td>\n",
       "      <td>Barcelona</td>\n",
       "      <td>Swimming</td>\n",
       "      <td>Swimming Men's 400 metres Freestyle</td>\n",
       "      <td>NaN</td>\n",
       "      <td>NaN</td>\n",
       "      <td>22.99</td>\n",
       "    </tr>\n",
       "    <tr>\n",
       "      <th>190352</th>\n",
       "      <td>95600</td>\n",
       "      <td>Mariusz Podkocielny</td>\n",
       "      <td>M</td>\n",
       "      <td>24.0</td>\n",
       "      <td>193.0</td>\n",
       "      <td>75.00</td>\n",
       "      <td>Poland</td>\n",
       "      <td>POL</td>\n",
       "      <td>1992 Summer</td>\n",
       "      <td>1992</td>\n",
       "      <td>Summer</td>\n",
       "      <td>Barcelona</td>\n",
       "      <td>Swimming</td>\n",
       "      <td>Swimming Men's 1,500 metres Freestyle</td>\n",
       "      <td>NaN</td>\n",
       "      <td>NaN</td>\n",
       "      <td>22.99</td>\n",
       "    </tr>\n",
       "    <tr>\n",
       "      <th>190353</th>\n",
       "      <td>95600</td>\n",
       "      <td>Mariusz Podkocielny</td>\n",
       "      <td>M</td>\n",
       "      <td>24.0</td>\n",
       "      <td>193.0</td>\n",
       "      <td>75.00</td>\n",
       "      <td>Poland</td>\n",
       "      <td>POL</td>\n",
       "      <td>1992 Summer</td>\n",
       "      <td>1992</td>\n",
       "      <td>Summer</td>\n",
       "      <td>Barcelona</td>\n",
       "      <td>Swimming</td>\n",
       "      <td>Swimming Men's 4 x 200 metres Freestyle Relay</td>\n",
       "      <td>NaN</td>\n",
       "      <td>NaN</td>\n",
       "      <td>22.99</td>\n",
       "    </tr>\n",
       "    <tr>\n",
       "      <th>190356</th>\n",
       "      <td>95601</td>\n",
       "      <td>Iouri Aleksandrovich Podladtchikov</td>\n",
       "      <td>M</td>\n",
       "      <td>25.0</td>\n",
       "      <td>184.0</td>\n",
       "      <td>76.00</td>\n",
       "      <td>Switzerland</td>\n",
       "      <td>SUI</td>\n",
       "      <td>2014 Winter</td>\n",
       "      <td>2014</td>\n",
       "      <td>Winter</td>\n",
       "      <td>Sochi</td>\n",
       "      <td>Snowboarding</td>\n",
       "      <td>Snowboarding Men's Halfpipe</td>\n",
       "      <td>Gold</td>\n",
       "      <td>URS</td>\n",
       "      <td>22.99</td>\n",
       "    </tr>\n",
       "    <tr>\n",
       "      <th>190360</th>\n",
       "      <td>95604</td>\n",
       "      <td>Rainer Podlesch</td>\n",
       "      <td>M</td>\n",
       "      <td>24.0</td>\n",
       "      <td>183.0</td>\n",
       "      <td>76.00</td>\n",
       "      <td>West Germany</td>\n",
       "      <td>FRG</td>\n",
       "      <td>1968 Summer</td>\n",
       "      <td>1968</td>\n",
       "      <td>Summer</td>\n",
       "      <td>Mexico City</td>\n",
       "      <td>Cycling</td>\n",
       "      <td>Cycling Men's Team Pursuit, 4,000 metres</td>\n",
       "      <td>Silver</td>\n",
       "      <td>USA</td>\n",
       "      <td>22.99</td>\n",
       "    </tr>\n",
       "  </tbody>\n",
       "</table>\n",
       "<p>72881 rows × 17 columns</p>\n",
       "</div>"
      ],
      "text/plain": [
       "           ID                                Name Sex   Age  Height  Weight  \\\n",
       "1           2                            A Lamusi   M  23.0   170.0   60.00   \n",
       "30         11                  Jorma Ilmari Aalto   M  22.0   182.0   76.50   \n",
       "35         15                Arvo Ossian Aaltonen   M  22.0   178.5   70.48   \n",
       "36         15                Arvo Ossian Aaltonen   M  22.0   178.5   70.48   \n",
       "66         20                  Kjetil Andr Aamodt   M  22.0   176.0   85.00   \n",
       "...       ...                                 ...  ..   ...     ...     ...   \n",
       "190351  95600                 Mariusz Podkocielny   M  24.0   193.0   75.00   \n",
       "190352  95600                 Mariusz Podkocielny   M  24.0   193.0   75.00   \n",
       "190353  95600                 Mariusz Podkocielny   M  24.0   193.0   75.00   \n",
       "190356  95601  Iouri Aleksandrovich Podladtchikov   M  25.0   184.0   76.00   \n",
       "190360  95604                     Rainer Podlesch   M  24.0   183.0   76.00   \n",
       "\n",
       "                Team  NOC        Games  Year  Season    Host_city  \\\n",
       "1              China  CHN  2012 Summer  2012  Summer       London   \n",
       "30           Finland  FIN  1980 Winter  1980  Winter  Lake Placid   \n",
       "35           Finland  FIN  1912 Summer  1912  Summer    Stockholm   \n",
       "36           Finland  FIN  1912 Summer  1912  Summer    Stockholm   \n",
       "66            Norway  NOR  1994 Winter  1994  Winter  Lillehammer   \n",
       "...              ...  ...          ...   ...     ...          ...   \n",
       "190351        Poland  POL  1992 Summer  1992  Summer    Barcelona   \n",
       "190352        Poland  POL  1992 Summer  1992  Summer    Barcelona   \n",
       "190353        Poland  POL  1992 Summer  1992  Summer    Barcelona   \n",
       "190356   Switzerland  SUI  2014 Winter  2014  Winter        Sochi   \n",
       "190360  West Germany  FRG  1968 Summer  1968  Summer  Mexico City   \n",
       "\n",
       "                       Sport                                          Event  \\\n",
       "1                       Judo                   Judo Men's Extra-Lightweight   \n",
       "30      Cross Country Skiing       Cross Country Skiing Men's 30 kilometres   \n",
       "35                  Swimming         Swimming Men's 200 metres Breaststroke   \n",
       "36                  Swimming         Swimming Men's 400 metres Breaststroke   \n",
       "66             Alpine Skiing                     Alpine Skiing Men's Slalom   \n",
       "...                      ...                                            ...   \n",
       "190351              Swimming            Swimming Men's 400 metres Freestyle   \n",
       "190352              Swimming          Swimming Men's 1,500 metres Freestyle   \n",
       "190353              Swimming  Swimming Men's 4 x 200 metres Freestyle Relay   \n",
       "190356          Snowboarding                    Snowboarding Men's Halfpipe   \n",
       "190360               Cycling       Cycling Men's Team Pursuit, 4,000 metres   \n",
       "\n",
       "         Medal Host_city_by_NOC    BMI  \n",
       "1          NaN              GBR  22.12  \n",
       "30         NaN              USA  23.96  \n",
       "35         NaN              SWE  22.58  \n",
       "36         NaN              SWE  23.55  \n",
       "66         NaN              NOR  20.90  \n",
       "...        ...              ...    ...  \n",
       "190351     NaN              NaN  22.99  \n",
       "190352     NaN              NaN  22.99  \n",
       "190353     NaN              NaN  22.99  \n",
       "190356    Gold              URS  22.99  \n",
       "190360  Silver              USA  22.99  \n",
       "\n",
       "[72881 rows x 17 columns]"
      ]
     },
     "execution_count": 15,
     "metadata": {},
     "output_type": "execute_result"
    }
   ],
   "source": [
    "median_BMI=data_with_BMI.BMI.median()\n",
    "data['BMI']=data_with_BMI['BMI'].round(2)\n",
    "data.BMI.fillna(median_BMI,inplace=True)\n",
    "n=new_data=data.loc[(data.BMI<=25)&(data.BMI>=20)&(data.Age<=26)&(data.Age>=22)].round(2).copy()\n",
    "new_data"
   ]
  },
  {
   "cell_type": "code",
   "execution_count": 16,
   "id": "01792450-bb78-4e68-927b-9fdcb5e0a665",
   "metadata": {},
   "outputs": [],
   "source": [
    "new_data['host country?']=np.where(new_data.NOC==new_data.Host_city_by_NOC,'True','False')\n",
    "onlt_true = new_data.loc[new_data['host country?']=='True']\n"
   ]
  },
  {
   "cell_type": "code",
   "execution_count": 17,
   "id": "bdb47878-c205-40fe-9fcf-6bf72f8de64a",
   "metadata": {},
   "outputs": [
    {
     "data": {
      "text/plain": [
       "24.644180152076427"
      ]
     },
     "execution_count": 17,
     "metadata": {},
     "output_type": "execute_result"
    }
   ],
   "source": [
    "data_true=new_data.loc[new_data['host country?']=='True']\n",
    "all_participent_t=len(data_true)\n",
    "all_winners_t=len(data_true.dropna())\n",
    "true_ratio=(all_winners_t/all_participent_t)*100\n",
    "true_ratio\n"
   ]
  },
  {
   "cell_type": "code",
   "execution_count": 18,
   "id": "af96c0c1-347c-4be4-9d3d-93a9132c69a0",
   "metadata": {},
   "outputs": [
    {
     "data": {
      "text/plain": [
       "13.240937536899281"
      ]
     },
     "execution_count": 18,
     "metadata": {},
     "output_type": "execute_result"
    }
   ],
   "source": [
    "false=new_data.loc[new_data['host country?']=='False']\n",
    "all_participent_f=len(false)\n",
    "all_winners_f=len(false.dropna())\n",
    "false_ratio=(all_winners_f/all_participent_f)*100\n",
    "false_ratio"
   ]
  },
  {
   "cell_type": "code",
   "execution_count": 19,
   "id": "bf53a7a3-c39e-4d7b-a88d-d87f63c219f0",
   "metadata": {},
   "outputs": [
    {
     "data": {
      "text/html": [
       "<div>\n",
       "<style scoped>\n",
       "    .dataframe tbody tr th:only-of-type {\n",
       "        vertical-align: middle;\n",
       "    }\n",
       "\n",
       "    .dataframe tbody tr th {\n",
       "        vertical-align: top;\n",
       "    }\n",
       "\n",
       "    .dataframe thead th {\n",
       "        text-align: right;\n",
       "    }\n",
       "</style>\n",
       "<table border=\"1\" class=\"dataframe\">\n",
       "  <thead>\n",
       "    <tr style=\"text-align: right;\">\n",
       "      <th></th>\n",
       "      <th>host</th>\n",
       "      <th>guest</th>\n",
       "    </tr>\n",
       "  </thead>\n",
       "  <tbody>\n",
       "    <tr>\n",
       "      <th>medal winning percent</th>\n",
       "      <td>24.64418</td>\n",
       "      <td>13.240938</td>\n",
       "    </tr>\n",
       "    <tr>\n",
       "      <th>not winning medal  percent</th>\n",
       "      <td>75.35582</td>\n",
       "      <td>86.759062</td>\n",
       "    </tr>\n",
       "  </tbody>\n",
       "</table>\n",
       "</div>"
      ],
      "text/plain": [
       "                                host      guest\n",
       "medal winning percent       24.64418  13.240938\n",
       "not winning medal  percent  75.35582  86.759062"
      ]
     },
     "execution_count": 19,
     "metadata": {},
     "output_type": "execute_result"
    }
   ],
   "source": [
    "df = pd.DataFrame({'host': [true_ratio , 100-true_ratio],\n",
    "                   'guest': [false_ratio,100- false_ratio]},\n",
    "                  index=['medal winning percent', 'not winning medal  percent'])\n",
    "df"
   ]
  },
  {
   "cell_type": "code",
   "execution_count": 20,
   "id": "e78b67c7-5e1c-46ea-9600-f8b5de3439e8",
   "metadata": {},
   "outputs": [
    {
     "data": {
      "image/png": "[encoded data removed]",
      "text/plain": [
       "<Figure size 1440x1440 with 2 Axes>"
      ]
     },
     "metadata": {},
     "output_type": "display_data"
    }
   ],
   "source": [
    "plt.figure(figsize=(20, 20))\n",
    "plt.subplot(1,2,1)\n",
    "plt.title(\"Percent of winning a medal when the country is the host.\",fontsize=18)\n",
    "plotpie=df['host'].plot.pie(autopct='%1.2f%%',colors = ['royalblue', 'lightblue'],fontsize=15,explode=(0.01, 0.1),shadow=True,legend=False)\n",
    "plt.legend(fontsize=14)\n",
    "plt.subplot(1,2,2)\n",
    "plt.title(\"Percent of winning a medal when the country is the guest.\",fontsize=18)\n",
    "plotpie=df['guest'].plot.pie(autopct='%1.2f%%',colors = ['royalblue', 'lightblue'],fontsize=15,explode=(0.01, 0.1),shadow=True,legend=False)\n",
    "plt.legend(fontsize=14)\n",
    "plt.show()\n"
   ]
  },
  {
   "cell_type": "markdown",
   "id": "b3b39585-4f12-49a9-b1fd-6f27d59101c6",
   "metadata": {
    "tags": []
   },
   "source": [
    "### As can be seen from the graphs,\n",
    "### When a country hosts  Olympics the probability of winning medals increases by more than 10 percents compared to times when a country is the guest .  \n",
    "---"
   ]
  },
  {
   "cell_type": "markdown",
   "id": "74eab375-ead7-4cc9-a4ac-f94e394a6502",
   "metadata": {},
   "source": [
    "<a id='section7'></a>\n",
    "  # $\\color{navy}{\\text{Prediction}}$ \n"
   ]
  },
  {
   "cell_type": "code",
   "execution_count": 21,
   "id": "7ce7ab75-df9f-4bdc-b6ea-bef8f0764ad7",
   "metadata": {},
   "outputs": [],
   "source": [
    "medal_counts=data.groupby(['NOC','Year'],as_index=False)['Medal'].value_counts()\n",
    "medal_counts\n",
    "d = {'NOC': ['USA', 'ITA'], 'Year': [2020, 2020],'Medal':['Gold','Bronze']}\n",
    "israel=pd.DataFrame(d)\n",
    "medal_counts=pd.concat([israel, medal_counts], ignore_index=True)\n",
    "medal_counts.loc[medal_counts['Medal']=='Gold','Medal']=3\n",
    "medal_counts.loc[medal_counts['Medal']=='Silver','Medal']=2\n",
    "medal_counts.loc[medal_counts['Medal']=='Bronze','Medal']=1\n",
    "medal_counts['Medal']=medal_counts.Medal.astype(int)\n",
    "medal_counts = pd.get_dummies(data=medal_counts, drop_first=True)\n",
    "x_train = medal_counts.drop(['count'],axis=1).loc[(medal_counts.Year<2020)]\n",
    "y =medal_counts[['count']].dropna()\n",
    "model = LinearRegression().fit(x_train, y)\n",
    "r_sq = model.score(x_train, y)\n",
    "x_test=medal_counts.loc[(medal_counts.Year==2020)].drop(['count'],axis=1)"
   ]
  },
  {
   "cell_type": "code",
   "execution_count": 22,
   "id": "8b98fbfa-edba-4fdb-9f5a-f7ec50db2d2f",
   "metadata": {},
   "outputs": [
    {
     "name": "stdout",
     "output_type": "stream",
     "text": [
      "predicted response:\n",
      "[[39.60030619]\n",
      " [13.34790088]]\n"
     ]
    }
   ],
   "source": [
    "y_pred = model.predict(x_test)\n",
    "print(f\"predicted response:\\n{y_pred}\")"
   ]
  },
  {
   "cell_type": "markdown",
   "id": "c00b5014-3c03-4674-aaa5-90842bde4de9",
   "metadata": {},
   "source": [
    "---\n",
    "<a id='section8'></a>\n",
    "  # $\\color{navy}{\\text{Summary}}$ \n"
   ]
  },
  {
   "cell_type": "markdown",
   "id": "51949150-e5c2-4c39-a310-5f5b16e778c1",
   "metadata": {},
   "source": [
    "# Presenting a number of key conclusions regarding the Olympics in modern times, leading countries, narrowing the gaps between women and men, defining the ultimate athlete, the effects of hosting the Olympics and prediction for 2020 ."
   ]
  },
  {
   "cell_type": "markdown",
   "id": "662277c8-47a1-40b2-b485-15e970a557d5",
   "metadata": {},
   "source": [
    "<center><img src=\"https://raw.githubusercontent.com/AdarSaban/olypmic_project/main/Olympic-Games.jpg\" alt=\"centered image\" \n",
    "     width=\"600\"  > </center>\n",
    "\n",
    "\n",
    "---"
   ]
  },
  {
   "cell_type": "markdown",
   "id": "1bd6d6fd-7505-40cb-8221-3218e9c3a6ee",
   "metadata": {},
   "source": [
    "  # $\\color{navy}{\\text{REFERENCES}}$ \n",
    "  "
   ]
  },
  {
   "cell_type": "markdown",
   "id": "fab89106-cb83-42a9-b856-bc006673b546",
   "metadata": {},
   "source": [
    "\"Peak Peformance Age in Sport\" - https://cepar.edu.au/sites/default/files/peak-performance-age-sport.pdf"
   ]
  },
  {
   "cell_type": "code",
   "execution_count": null,
   "id": "583ad331-5026-4980-85c6-cd9efb8c55f9",
   "metadata": {},
   "outputs": [],
   "source": []
  }
 ],
 "metadata": {
  "kernelspec": {
   "display_name": "Python 3 (ipykernel)",
   "language": "python",
   "name": "python3"
  },
  "language_info": {
   "codemirror_mode": {
    "name": "ipython",
    "version": 3
   },
   "file_extension": ".py",
   "mimetype": "text/x-python",
   "name": "python",
   "nbconvert_exporter": "python",
   "pygments_lexer": "ipython3",
   "version": "3.10.2"
  }
 },
 "nbformat": 4,
 "nbformat_minor": 5
}
